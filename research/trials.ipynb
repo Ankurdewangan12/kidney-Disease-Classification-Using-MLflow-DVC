{
 "cells": [
  {
   "cell_type": "code",
   "execution_count": 3,
   "id": "f21aef57",
   "metadata": {},
   "outputs": [],
   "source": [
    "import gdown\n",
    "\n",
    "url=\"https://drive.google.com/file/d/15FV6QQQiTimGVNODvXJ9_uh0JDBsSSXP/view?usp=sharing\""
   ]
  },
  {
   "cell_type": "code",
   "execution_count": 6,
   "id": "0052e451",
   "metadata": {},
   "outputs": [],
   "source": [
    "spl=url.split(\"/\")"
   ]
  },
  {
   "cell_type": "code",
   "execution_count": 9,
   "id": "5d7b2afa",
   "metadata": {},
   "outputs": [
    {
     "data": {
      "text/plain": [
       "'15FV6QQQiTimGVNODvXJ9_uh0JDBsSSXP'"
      ]
     },
     "execution_count": 9,
     "metadata": {},
     "output_type": "execute_result"
    }
   ],
   "source": [
    "file_id= spl[5]\n",
    "file_id"
   ]
  },
  {
   "cell_type": "markdown",
   "id": "fb8abefe",
   "metadata": {},
   "source": [
    "PREFIX URL WHICH IS USED FOR DOWNLOAD G-DRIVE FILE"
   ]
  },
  {
   "cell_type": "code",
   "execution_count": 10,
   "id": "8111c998",
   "metadata": {},
   "outputs": [],
   "source": [
    "prefix = \"https://drive.google.com/uc?export=download&id=\""
   ]
  },
  {
   "cell_type": "code",
   "execution_count": 12,
   "id": "301b0e34",
   "metadata": {},
   "outputs": [
    {
     "name": "stderr",
     "output_type": "stream",
     "text": [
      "Downloading...\n",
      "From: https://drive.google.com/uc?export=download&id=15FV6QQQiTimGVNODvXJ9_uh0JDBsSSXP\n",
      "To: c:\\ankur\\DL end 2 end project\\kidney-Disease-Classification-Using-MLflow-DVC\\research\\CT-Scan-Data.zip\n",
      "100%|██████████| 73.8M/73.8M [02:37<00:00, 469kB/s] \n"
     ]
    },
    {
     "data": {
      "text/plain": [
       "'CT-Scan-Data.zip'"
      ]
     },
     "execution_count": 12,
     "metadata": {},
     "output_type": "execute_result"
    }
   ],
   "source": [
    "gdown.download(prefix+file_id,\"CT-Scan-Data.zip\")"
   ]
  },
  {
   "cell_type": "code",
   "execution_count": null,
   "id": "8653a942",
   "metadata": {},
   "outputs": [],
   "source": []
  }
 ],
 "metadata": {
  "kernelspec": {
   "display_name": "kidney",
   "language": "python",
   "name": "python3"
  },
  "language_info": {
   "codemirror_mode": {
    "name": "ipython",
    "version": 3
   },
   "file_extension": ".py",
   "mimetype": "text/x-python",
   "name": "python",
   "nbconvert_exporter": "python",
   "pygments_lexer": "ipython3",
   "version": "3.10.18"
  }
 },
 "nbformat": 4,
 "nbformat_minor": 5
}
